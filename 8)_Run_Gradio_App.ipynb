{
  "nbformat": 4,
  "nbformat_minor": 0,
  "metadata": {
    "colab": {
      "provenance": []
    },
    "kernelspec": {
      "name": "python3",
      "display_name": "Python 3"
    },
    "language_info": {
      "name": "python"
    }
  },
  "cells": [
    {
      "cell_type": "markdown",
      "source": [
        "# 🎛️ Interactive Price Prediction App (Gradio + Modal)\n",
        "\n",
        "This notebook launches an interactive **Gradio web app** that lets you enter a product description and receive a predicted price in real-time.  \n",
        "\n",
        "It connects to our **fine-tuned LLaMA 3.1 model**, deployed on **Modal**, for fast and efficient inference. The model runs remotely on GPU, while the app interface runs in your Colab notebook or browser.\n",
        "\n",
        "> 💡 Great for demos, testing, or sharing with others!\n"
      ],
      "metadata": {
        "id": "efAaHQsshHqx"
      }
    },
    {
      "cell_type": "code",
      "execution_count": null,
      "metadata": {
        "id": "_IIlodP2VND0"
      },
      "outputs": [],
      "source": [
        "# 📦 Install required libraries\n",
        "!pip install -q modal gradio"
      ]
    },
    {
      "cell_type": "code",
      "source": [
        "# 🔌 Import required packages\n",
        "import modal\n",
        "import gradio as gr\n",
        "from google.colab import userdata\n",
        "import os"
      ],
      "metadata": {
        "id": "16eujjfDVbG2"
      },
      "execution_count": null,
      "outputs": []
    },
    {
      "cell_type": "code",
      "source": [
        "# 🔐 Set up Modal authentication using Colab secrets\n",
        "modal_token_id = userdata.get(\"MODAL_TOKEN_ID\")\n",
        "modal_token_secret = userdata.get(\"MODAL_TOKEN_SECRET\")\n",
        "\n",
        "# Set environment variables for Modal CLI to use\n",
        "os.environ[\"MODAL_TOKEN_ID\"] = modal_token_id\n",
        "os.environ[\"MODAL_TOKEN_SECRET\"] = modal_token_secret"
      ],
      "metadata": {
        "id": "IwH60KHbVc4C"
      },
      "execution_count": null,
      "outputs": []
    },
    {
      "cell_type": "markdown",
      "source": [
        "### 🔐 Authenticate with Modal\n",
        "\n",
        "Before running the deployment or calling your Modal function, make sure you’ve added your `MODAL_TOKEN_ID` and `MODAL_TOKEN_SECRET` as notebook secrets.\n",
        "\n",
        "> 💡 You can do this by clicking the 🔑 key icon on the left panel in Google Colab and adding:\n",
        "> - `MODAL_TOKEN_ID`: your Modal token ID (starts with `ak-`)\n",
        "> - `MODAL_TOKEN_SECRET`: your Modal secret key (starts with `sk-`)\n",
        "\n",
        "Then, run the following command in a code cell to log in:\n"
      ],
      "metadata": {
        "id": "FgBg7d5RVnrd"
      }
    },
    {
      "cell_type": "code",
      "source": [
        "!modal token set --token-id {modal_token_id} --token-secret {modal_token_secret}"
      ],
      "metadata": {
        "id": "CzDGib1zVil_"
      },
      "execution_count": null,
      "outputs": []
    },
    {
      "cell_type": "code",
      "source": [
        "# 🔍 Get the deployed class\n",
        "pricer_cls = modal.Cls.from_name(\"pricer-electronics-service\", \"Pricer\")\n",
        "# Instantiate it\n",
        "pricer = pricer_cls()"
      ],
      "metadata": {
        "id": "E7oO4lXPVo_D"
      },
      "execution_count": null,
      "outputs": []
    },
    {
      "cell_type": "code",
      "source": [
        "# 🧠 Define the interface function\n",
        "def predict_price(description):\n",
        "    try:\n",
        "        price = pricer.price.remote(description)\n",
        "        return f\"💸 Estimated Price: ${price:.2f}\"\n",
        "    except Exception as e:\n",
        "        return f\"⚠️ Error: {str(e)}\"\n"
      ],
      "metadata": {
        "id": "sJ8Uc83mVxoq"
      },
      "execution_count": null,
      "outputs": []
    },
    {
      "cell_type": "code",
      "source": [
        "# 🎛️ Create a clean, full-width Gradio app with a centered title\n",
        "with gr.Blocks(title=\"The Price is Right\") as demo: # fill_width=True\n",
        "    gr.Markdown(\n",
        "        \"\"\"\n",
        "        <div style=\"text-align: center;\">\n",
        "            <h1>🔍 Electronics Price Predictor</h1>\n",
        "            <p>Enter a product description below to estimate its price using the fine-tuned LLaMA-3.1-8B model.</p>\n",
        "        </div>\n",
        "        \"\"\"\n",
        "    )\n",
        "\n",
        "    with gr.Row():\n",
        "        input_text = gr.Textbox(\n",
        "            label=\"📝 Product Description\",\n",
        "            placeholder=\"e.g. Wireless earbuds with noise cancellation\",\n",
        "            lines=3,\n",
        "            scale=1\n",
        "        )\n",
        "    with gr.Row():\n",
        "        output = gr.Textbox(label=\"💰 Predicted Price\")\n",
        "\n",
        "\n",
        "    with gr.Row():\n",
        "        predict_button = gr.Button(\"🚀 Estimate Price\")\n",
        "\n",
        "    predict_button.click(fn=predict_price, inputs=input_text, outputs=output)\n",
        "\n",
        "# 🚀 Launch the app\n",
        "demo.launch()\n"
      ],
      "metadata": {
        "id": "ROkbz8Y7VzqQ"
      },
      "execution_count": null,
      "outputs": []
    }
  ]
}